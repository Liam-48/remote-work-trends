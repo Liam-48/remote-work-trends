{
 "cells": [
  {
   "cell_type": "code",
   "execution_count": 1,
   "id": "f76f3acc-0fb3-48da-a3cd-2e55e6f027c4",
   "metadata": {},
   "outputs": [],
   "source": [
    "import requests\n",
    "import pandas as pd"
   ]
  },
  {
   "cell_type": "code",
   "execution_count": 2,
   "id": "42103854-c056-4d9c-8e2d-98c2f5e155ec",
   "metadata": {},
   "outputs": [],
   "source": [
    "url = \"https://remoteok.com/api\""
   ]
  },
  {
   "cell_type": "code",
   "execution_count": 3,
   "id": "41ba9d49-8fdb-467d-978e-7a5f79bef685",
   "metadata": {},
   "outputs": [],
   "source": [
    "headers = {\"User-Agent\": \"Mozilla/5.0\"}"
   ]
  },
  {
   "cell_type": "code",
   "execution_count": 4,
   "id": "aaadfa54-9d2e-4cdc-ad3b-458030794965",
   "metadata": {},
   "outputs": [],
   "source": [
    "response = requests.get(url, headers=headers)"
   ]
  },
  {
   "cell_type": "code",
   "execution_count": 5,
   "id": "e3e0a4ad-a490-431e-88df-de2e2d63d394",
   "metadata": {},
   "outputs": [
    {
     "name": "stdout",
     "output_type": "stream",
     "text": [
      "Status code: 200\n"
     ]
    }
   ],
   "source": [
    "print(\"Status code:\", response.status_code)"
   ]
  },
  {
   "cell_type": "code",
   "execution_count": 6,
   "id": "d59b20a6-aef5-4754-bf18-5675a6c4a1ca",
   "metadata": {},
   "outputs": [],
   "source": [
    "data = response.json()"
   ]
  },
  {
   "cell_type": "code",
   "execution_count": 7,
   "id": "586418bb-f16d-4fb8-b45a-a4957cc3ce86",
   "metadata": {},
   "outputs": [
    {
     "name": "stdout",
     "output_type": "stream",
     "text": [
      "dict_keys(['last_updated', 'legal'])\n",
      "{'last_updated': 1752300516, 'legal': \"API Terms of Service: Please link back (with follow, and without nofollow!) to the URL on Remote OK and mention Remote OK as a source, so we get traffic back from your site. If you do not we'll have to suspend API access.\\n\\nPlease don't use the Remote OK logo without written permission as it's a registered trademark, please DO use our name Remote OK though.\"}\n"
     ]
    }
   ],
   "source": [
    "print(data[0].keys())\n",
    "print(data[0])"
   ]
  },
  {
   "cell_type": "code",
   "execution_count": 8,
   "id": "02843910-035b-4bf4-8ef3-5939ea2c5662",
   "metadata": {},
   "outputs": [],
   "source": [
    "jobs = data[1:]"
   ]
  },
  {
   "cell_type": "code",
   "execution_count": 9,
   "id": "da3445f5-b3f4-4e5b-8a2c-3b4d719d0dde",
   "metadata": {},
   "outputs": [
    {
     "name": "stdout",
     "output_type": "stream",
     "text": [
      "Number of jobs: 99\n"
     ]
    }
   ],
   "source": [
    "print(\"Number of jobs:\", len(jobs))"
   ]
  },
  {
   "cell_type": "code",
   "execution_count": 10,
   "id": "bdb7d533-91ee-43bc-9620-5360f15785a2",
   "metadata": {},
   "outputs": [],
   "source": [
    "df = pd.json_normalize(jobs)"
   ]
  },
  {
   "cell_type": "code",
   "execution_count": 11,
   "id": "eb7d9571-ea76-4de8-b50b-72d62d8beb08",
   "metadata": {},
   "outputs": [
    {
     "name": "stdout",
     "output_type": "stream",
     "text": [
      "                                                slug       id       epoch  \\\n",
      "0  remote-work-from-home-customer-service-represe...  1093611  1752300516   \n",
      "1  remote-backend-developer-lobstr-io-python-scra...  1093607  1752244996   \n",
      "2  remote-chief-executive-officer-crypto-blockcha...  1093606  1752231603   \n",
      "3   remote-senior-mobile-ios-engineer-yassir-1093598  1093598  1752159610   \n",
      "4  remote-member-of-technical-staff-transparency-...  1093596  1752152403   \n",
      "\n",
      "                        date              company  \\\n",
      "0  2025-07-12T06:08:36+00:00  The Singleton Group   \n",
      "1  2025-07-11T14:43:16+00:00            lobstr.io   \n",
      "2  2025-07-11T11:00:03+00:00                 Caiz   \n",
      "3  2025-07-10T15:00:10+00:00               Yassir   \n",
      "4  2025-07-10T13:00:03+00:00    Anchorage Digital   \n",
      "\n",
      "                                        company_logo  \\\n",
      "0  https://remoteOK.com/assets/img/jobs/21bbfefc6...   \n",
      "1  https://remoteOK.com/assets/img/jobs/e79373185...   \n",
      "2  https://remoteok.com/assets/img/jobs/fdfb02129...   \n",
      "3  https://remoteok.com/assets/img/jobs/23200f15f...   \n",
      "4  https://remoteok.com/assets/img/jobs/8a55416ee...   \n",
      "\n",
      "                                            position  \\\n",
      "0     Work from Home Customer Service Representative   \n",
      "1  Backend Developer @ lobstr.io Python Scraping ...   \n",
      "2          Chief Executive Officer Crypto Blockchain   \n",
      "3                         Senior Mobile iOS Engineer   \n",
      "4             Member of Technical Staff Transparency   \n",
      "\n",
      "                                                tags  \\\n",
      "0  [admin, customer support, data entry, Customer...   \n",
      "1  [dev, python, backend, redis, remote, api, tec...   \n",
      "2  [crypto, cryptocurrency, system, security, ceo...   \n",
      "3  [ios, design, redis, frontend, back-end, techn...   \n",
      "4  [design, crypto, front-end, back-end, security...   \n",
      "\n",
      "                                                logo  \\\n",
      "0  https://remoteOK.com/assets/img/jobs/21bbfefc6...   \n",
      "1  https://remoteOK.com/assets/img/jobs/e79373185...   \n",
      "2  https://remoteok.com/assets/img/jobs/fdfb02129...   \n",
      "3  https://remoteok.com/assets/img/jobs/23200f15f...   \n",
      "4  https://remoteok.com/assets/img/jobs/8a55416ee...   \n",
      "\n",
      "                                         description       location  \\\n",
      "0  <p><strong>THE JOB POSITION IS FOR CANDIDATES ...                  \n",
      "1  <div class=\"flex-item\"><div class=\"show-right\"...                  \n",
      "2  &lt;p&gt;&lt;strong&gt;Caiz&lt;/strong&gt;&lt;...                  \n",
      "3  <p><b><span style=\"font-size: 16px\">Yassir</sp...                  \n",
      "4  <p><span style=\"font-size: 18px\"><b>At Anchora...  United States   \n",
      "\n",
      "   salary_min  salary_max                                          apply_url  \\\n",
      "0       80000       90000  https://remoteOK.com/remote-jobs/remote-work-f...   \n",
      "1       30000       40000  https://remoteOK.com/remote-jobs/remote-backen...   \n",
      "2       50000      100000  https://remoteOK.com/remote-jobs/remote-chief-...   \n",
      "3       60000      120000  https://remoteOK.com/remote-jobs/remote-senior...   \n",
      "4       60000      115000  https://remoteOK.com/remote-jobs/remote-member...   \n",
      "\n",
      "  original                                                url verified  \n",
      "0     True  https://remoteOK.com/remote-jobs/remote-work-f...      NaN  \n",
      "1     True  https://remoteOK.com/remote-jobs/remote-backen...      NaN  \n",
      "2      NaN  https://remoteOK.com/remote-jobs/remote-chief-...      NaN  \n",
      "3      NaN  https://remoteOK.com/remote-jobs/remote-senior...      NaN  \n",
      "4      NaN  https://remoteOK.com/remote-jobs/remote-member...      NaN  \n"
     ]
    }
   ],
   "source": [
    "print(df.head())"
   ]
  },
  {
   "cell_type": "code",
   "execution_count": 12,
   "id": "bd5db820-51dd-426a-9250-98d76cf8a7c9",
   "metadata": {},
   "outputs": [
    {
     "name": "stdout",
     "output_type": "stream",
     "text": [
      "Index(['slug', 'id', 'epoch', 'date', 'company', 'company_logo', 'position',\n",
      "       'tags', 'logo', 'description', 'location', 'salary_min', 'salary_max',\n",
      "       'apply_url', 'original', 'url', 'verified'],\n",
      "      dtype='object')\n"
     ]
    }
   ],
   "source": [
    "print(df.columns)"
   ]
  },
  {
   "cell_type": "code",
   "execution_count": 13,
   "id": "ac83a6ca-79d3-45a2-ab03-1a169cb00748",
   "metadata": {},
   "outputs": [],
   "source": [
    "columns_to_keep = ['id', 'date', 'company', 'position', 'tags', 'location', 'salary_min', 'salary_max', 'url']"
   ]
  },
  {
   "cell_type": "code",
   "execution_count": 14,
   "id": "552a349c-55f4-4eca-aeb7-5ce9609e9a66",
   "metadata": {},
   "outputs": [],
   "source": [
    "df_clean = df[[col for col in columns_to_keep if col in df.columns]]"
   ]
  },
  {
   "cell_type": "code",
   "execution_count": 15,
   "id": "58e2d076-b3ad-4b96-95ab-506b36608229",
   "metadata": {},
   "outputs": [
    {
     "name": "stdout",
     "output_type": "stream",
     "text": [
      "        id                       date              company  \\\n",
      "0  1093611  2025-07-12T06:08:36+00:00  The Singleton Group   \n",
      "1  1093607  2025-07-11T14:43:16+00:00            lobstr.io   \n",
      "2  1093606  2025-07-11T11:00:03+00:00                 Caiz   \n",
      "3  1093598  2025-07-10T15:00:10+00:00               Yassir   \n",
      "4  1093596  2025-07-10T13:00:03+00:00    Anchorage Digital   \n",
      "\n",
      "                                            position  \\\n",
      "0     Work from Home Customer Service Representative   \n",
      "1  Backend Developer @ lobstr.io Python Scraping ...   \n",
      "2          Chief Executive Officer Crypto Blockchain   \n",
      "3                         Senior Mobile iOS Engineer   \n",
      "4             Member of Technical Staff Transparency   \n",
      "\n",
      "                                                tags       location  \\\n",
      "0  [admin, customer support, data entry, Customer...                  \n",
      "1  [dev, python, backend, redis, remote, api, tec...                  \n",
      "2  [crypto, cryptocurrency, system, security, ceo...                  \n",
      "3  [ios, design, redis, frontend, back-end, techn...                  \n",
      "4  [design, crypto, front-end, back-end, security...  United States   \n",
      "\n",
      "   salary_min  salary_max                                                url  \n",
      "0       80000       90000  https://remoteOK.com/remote-jobs/remote-work-f...  \n",
      "1       30000       40000  https://remoteOK.com/remote-jobs/remote-backen...  \n",
      "2       50000      100000  https://remoteOK.com/remote-jobs/remote-chief-...  \n",
      "3       60000      120000  https://remoteOK.com/remote-jobs/remote-senior...  \n",
      "4       60000      115000  https://remoteOK.com/remote-jobs/remote-member...  \n"
     ]
    }
   ],
   "source": [
    "print(df_clean.head())"
   ]
  },
  {
   "cell_type": "code",
   "execution_count": 16,
   "id": "0af6c848-f6f3-42a1-91ce-336260077677",
   "metadata": {},
   "outputs": [
    {
     "data": {
      "text/plain": [
       "0     admin, customer support, data entry, Customer ...\n",
       "1     dev, python, backend, redis, remote, api, tech...\n",
       "2     crypto, cryptocurrency, system, security, ceo,...\n",
       "3     ios, design, redis, frontend, back-end, techni...\n",
       "4     design, crypto, front-end, back-end, security,...\n",
       "                            ...                        \n",
       "94    saas, salesforce, training, support, growth, t...\n",
       "95                        golang, reliability, engineer\n",
       "96     golang, software, saas, senior, golang, engineer\n",
       "97    assistant, bitcoin, support, growth, travel, m...\n",
       "98    system, training, recruiter, support, test, ed...\n",
       "Name: tags, Length: 99, dtype: object"
      ]
     },
     "execution_count": 16,
     "metadata": {},
     "output_type": "execute_result"
    }
   ],
   "source": [
    "df_clean['tags'].apply(lambda x: ', '.join(x) if isinstance(x, list) else '')"
   ]
  },
  {
   "cell_type": "code",
   "execution_count": 18,
   "id": "581609cd-8ad2-4269-9d7b-38e3abd9eaef",
   "metadata": {
    "scrolled": true
   },
   "outputs": [
    {
     "data": {
      "text/html": [
       "<div>\n",
       "<style scoped>\n",
       "    .dataframe tbody tr th:only-of-type {\n",
       "        vertical-align: middle;\n",
       "    }\n",
       "\n",
       "    .dataframe tbody tr th {\n",
       "        vertical-align: top;\n",
       "    }\n",
       "\n",
       "    .dataframe thead th {\n",
       "        text-align: right;\n",
       "    }\n",
       "</style>\n",
       "<table border=\"1\" class=\"dataframe\">\n",
       "  <thead>\n",
       "    <tr style=\"text-align: right;\">\n",
       "      <th></th>\n",
       "      <th>id</th>\n",
       "      <th>date</th>\n",
       "      <th>company</th>\n",
       "      <th>position</th>\n",
       "      <th>tags</th>\n",
       "      <th>location</th>\n",
       "      <th>salary_min</th>\n",
       "      <th>salary_max</th>\n",
       "      <th>url</th>\n",
       "    </tr>\n",
       "  </thead>\n",
       "  <tbody>\n",
       "    <tr>\n",
       "      <th>0</th>\n",
       "      <td>1093611</td>\n",
       "      <td>2025-07-12T06:08:36+00:00</td>\n",
       "      <td>The Singleton Group</td>\n",
       "      <td>Work from Home Customer Service Representative</td>\n",
       "      <td>[admin, customer support, data entry, Customer...</td>\n",
       "      <td></td>\n",
       "      <td>80000</td>\n",
       "      <td>90000</td>\n",
       "      <td>https://remoteOK.com/remote-jobs/remote-work-f...</td>\n",
       "    </tr>\n",
       "    <tr>\n",
       "      <th>1</th>\n",
       "      <td>1093607</td>\n",
       "      <td>2025-07-11T14:43:16+00:00</td>\n",
       "      <td>lobstr.io</td>\n",
       "      <td>Backend Developer @ lobstr.io Python Scraping ...</td>\n",
       "      <td>[dev, python, backend, redis, remote, api, tec...</td>\n",
       "      <td></td>\n",
       "      <td>30000</td>\n",
       "      <td>40000</td>\n",
       "      <td>https://remoteOK.com/remote-jobs/remote-backen...</td>\n",
       "    </tr>\n",
       "    <tr>\n",
       "      <th>2</th>\n",
       "      <td>1093606</td>\n",
       "      <td>2025-07-11T11:00:03+00:00</td>\n",
       "      <td>Caiz</td>\n",
       "      <td>Chief Executive Officer Crypto Blockchain</td>\n",
       "      <td>[crypto, cryptocurrency, system, security, ceo...</td>\n",
       "      <td></td>\n",
       "      <td>50000</td>\n",
       "      <td>100000</td>\n",
       "      <td>https://remoteOK.com/remote-jobs/remote-chief-...</td>\n",
       "    </tr>\n",
       "    <tr>\n",
       "      <th>3</th>\n",
       "      <td>1093598</td>\n",
       "      <td>2025-07-10T15:00:10+00:00</td>\n",
       "      <td>Yassir</td>\n",
       "      <td>Senior Mobile iOS Engineer</td>\n",
       "      <td>[ios, design, redis, frontend, back-end, techn...</td>\n",
       "      <td></td>\n",
       "      <td>60000</td>\n",
       "      <td>120000</td>\n",
       "      <td>https://remoteOK.com/remote-jobs/remote-senior...</td>\n",
       "    </tr>\n",
       "    <tr>\n",
       "      <th>4</th>\n",
       "      <td>1093596</td>\n",
       "      <td>2025-07-10T13:00:03+00:00</td>\n",
       "      <td>Anchorage Digital</td>\n",
       "      <td>Member of Technical Staff Transparency</td>\n",
       "      <td>[design, crypto, front-end, back-end, security...</td>\n",
       "      <td>United States</td>\n",
       "      <td>60000</td>\n",
       "      <td>115000</td>\n",
       "      <td>https://remoteOK.com/remote-jobs/remote-member...</td>\n",
       "    </tr>\n",
       "  </tbody>\n",
       "</table>\n",
       "</div>"
      ],
      "text/plain": [
       "        id                       date              company  \\\n",
       "0  1093611  2025-07-12T06:08:36+00:00  The Singleton Group   \n",
       "1  1093607  2025-07-11T14:43:16+00:00            lobstr.io   \n",
       "2  1093606  2025-07-11T11:00:03+00:00                 Caiz   \n",
       "3  1093598  2025-07-10T15:00:10+00:00               Yassir   \n",
       "4  1093596  2025-07-10T13:00:03+00:00    Anchorage Digital   \n",
       "\n",
       "                                            position  \\\n",
       "0     Work from Home Customer Service Representative   \n",
       "1  Backend Developer @ lobstr.io Python Scraping ...   \n",
       "2          Chief Executive Officer Crypto Blockchain   \n",
       "3                         Senior Mobile iOS Engineer   \n",
       "4             Member of Technical Staff Transparency   \n",
       "\n",
       "                                                tags       location  \\\n",
       "0  [admin, customer support, data entry, Customer...                  \n",
       "1  [dev, python, backend, redis, remote, api, tec...                  \n",
       "2  [crypto, cryptocurrency, system, security, ceo...                  \n",
       "3  [ios, design, redis, frontend, back-end, techn...                  \n",
       "4  [design, crypto, front-end, back-end, security...  United States   \n",
       "\n",
       "   salary_min  salary_max                                                url  \n",
       "0       80000       90000  https://remoteOK.com/remote-jobs/remote-work-f...  \n",
       "1       30000       40000  https://remoteOK.com/remote-jobs/remote-backen...  \n",
       "2       50000      100000  https://remoteOK.com/remote-jobs/remote-chief-...  \n",
       "3       60000      120000  https://remoteOK.com/remote-jobs/remote-senior...  \n",
       "4       60000      115000  https://remoteOK.com/remote-jobs/remote-member...  "
      ]
     },
     "execution_count": 18,
     "metadata": {},
     "output_type": "execute_result"
    }
   ],
   "source": [
    "df_clean.head()"
   ]
  },
  {
   "cell_type": "code",
   "execution_count": 21,
   "id": "a5985057-4ecd-42aa-94f8-c2f20986206a",
   "metadata": {},
   "outputs": [],
   "source": [
    "df_clean.to_csv(r\"C:\\Users\\goco4\\OneDrive\\Desktop\\Projects\\remote-work-trend-project\\raw_data\\remoteok_jobs_clean.csv\", index=False)"
   ]
  },
  {
   "cell_type": "markdown",
   "id": "c4e20491-0b33-4471-83c6-4ff1e2eecc74",
   "metadata": {},
   "source": [
    "Saved clean CSV to raw_data/remoteok_jobs_clean.csv"
   ]
  }
 ],
 "metadata": {
  "kernelspec": {
   "display_name": "Python 3 (ipykernel)",
   "language": "python",
   "name": "python3"
  },
  "language_info": {
   "codemirror_mode": {
    "name": "ipython",
    "version": 3
   },
   "file_extension": ".py",
   "mimetype": "text/x-python",
   "name": "python",
   "nbconvert_exporter": "python",
   "pygments_lexer": "ipython3",
   "version": "3.11.5"
  }
 },
 "nbformat": 4,
 "nbformat_minor": 5
}
