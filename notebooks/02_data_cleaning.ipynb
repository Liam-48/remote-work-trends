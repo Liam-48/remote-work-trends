{
 "cells": [
  {
   "cell_type": "code",
   "execution_count": 1,
   "id": "fba7a6e4-be0f-407e-854b-e407dac00f9b",
   "metadata": {},
   "outputs": [],
   "source": [
    "import pandas as pd"
   ]
  },
  {
   "cell_type": "code",
   "execution_count": 2,
   "id": "9e8a6013-c0f4-4fa9-8cda-428bb213a99d",
   "metadata": {},
   "outputs": [],
   "source": [
    "df = pd.read_csv(\"../raw_data/remoteok_jobs_clean.csv\")"
   ]
  },
  {
   "cell_type": "code",
   "execution_count": 3,
   "id": "e7be8211-a08b-47e1-b991-7bbb10af51e0",
   "metadata": {},
   "outputs": [
    {
     "data": {
      "text/html": [
       "<div>\n",
       "<style scoped>\n",
       "    .dataframe tbody tr th:only-of-type {\n",
       "        vertical-align: middle;\n",
       "    }\n",
       "\n",
       "    .dataframe tbody tr th {\n",
       "        vertical-align: top;\n",
       "    }\n",
       "\n",
       "    .dataframe thead th {\n",
       "        text-align: right;\n",
       "    }\n",
       "</style>\n",
       "<table border=\"1\" class=\"dataframe\">\n",
       "  <thead>\n",
       "    <tr style=\"text-align: right;\">\n",
       "      <th></th>\n",
       "      <th>id</th>\n",
       "      <th>date</th>\n",
       "      <th>company</th>\n",
       "      <th>position</th>\n",
       "      <th>tags</th>\n",
       "      <th>location</th>\n",
       "      <th>salary_min</th>\n",
       "      <th>salary_max</th>\n",
       "      <th>url</th>\n",
       "    </tr>\n",
       "  </thead>\n",
       "  <tbody>\n",
       "    <tr>\n",
       "      <th>0</th>\n",
       "      <td>1093611</td>\n",
       "      <td>2025-07-12T06:08:36+00:00</td>\n",
       "      <td>The Singleton Group</td>\n",
       "      <td>Work from Home Customer Service Representative</td>\n",
       "      <td>['admin', 'customer support', 'data entry', 'C...</td>\n",
       "      <td>NaN</td>\n",
       "      <td>80000</td>\n",
       "      <td>90000</td>\n",
       "      <td>https://remoteOK.com/remote-jobs/remote-work-f...</td>\n",
       "    </tr>\n",
       "    <tr>\n",
       "      <th>1</th>\n",
       "      <td>1093607</td>\n",
       "      <td>2025-07-11T14:43:16+00:00</td>\n",
       "      <td>lobstr.io</td>\n",
       "      <td>Backend Developer @ lobstr.io Python Scraping ...</td>\n",
       "      <td>['dev', 'python', 'backend', 'redis', 'remote'...</td>\n",
       "      <td>NaN</td>\n",
       "      <td>30000</td>\n",
       "      <td>40000</td>\n",
       "      <td>https://remoteOK.com/remote-jobs/remote-backen...</td>\n",
       "    </tr>\n",
       "    <tr>\n",
       "      <th>2</th>\n",
       "      <td>1093606</td>\n",
       "      <td>2025-07-11T11:00:03+00:00</td>\n",
       "      <td>Caiz</td>\n",
       "      <td>Chief Executive Officer Crypto Blockchain</td>\n",
       "      <td>['crypto', 'cryptocurrency', 'system', 'securi...</td>\n",
       "      <td>NaN</td>\n",
       "      <td>50000</td>\n",
       "      <td>100000</td>\n",
       "      <td>https://remoteOK.com/remote-jobs/remote-chief-...</td>\n",
       "    </tr>\n",
       "    <tr>\n",
       "      <th>3</th>\n",
       "      <td>1093598</td>\n",
       "      <td>2025-07-10T15:00:10+00:00</td>\n",
       "      <td>Yassir</td>\n",
       "      <td>Senior Mobile iOS Engineer</td>\n",
       "      <td>['ios', 'design', 'redis', 'frontend', 'back-e...</td>\n",
       "      <td>NaN</td>\n",
       "      <td>60000</td>\n",
       "      <td>120000</td>\n",
       "      <td>https://remoteOK.com/remote-jobs/remote-senior...</td>\n",
       "    </tr>\n",
       "    <tr>\n",
       "      <th>4</th>\n",
       "      <td>1093596</td>\n",
       "      <td>2025-07-10T13:00:03+00:00</td>\n",
       "      <td>Anchorage Digital</td>\n",
       "      <td>Member of Technical Staff Transparency</td>\n",
       "      <td>['design', 'crypto', 'front-end', 'back-end', ...</td>\n",
       "      <td>United States</td>\n",
       "      <td>60000</td>\n",
       "      <td>115000</td>\n",
       "      <td>https://remoteOK.com/remote-jobs/remote-member...</td>\n",
       "    </tr>\n",
       "  </tbody>\n",
       "</table>\n",
       "</div>"
      ],
      "text/plain": [
       "        id                       date              company  \\\n",
       "0  1093611  2025-07-12T06:08:36+00:00  The Singleton Group   \n",
       "1  1093607  2025-07-11T14:43:16+00:00            lobstr.io   \n",
       "2  1093606  2025-07-11T11:00:03+00:00                 Caiz   \n",
       "3  1093598  2025-07-10T15:00:10+00:00               Yassir   \n",
       "4  1093596  2025-07-10T13:00:03+00:00    Anchorage Digital   \n",
       "\n",
       "                                            position  \\\n",
       "0     Work from Home Customer Service Representative   \n",
       "1  Backend Developer @ lobstr.io Python Scraping ...   \n",
       "2          Chief Executive Officer Crypto Blockchain   \n",
       "3                         Senior Mobile iOS Engineer   \n",
       "4             Member of Technical Staff Transparency   \n",
       "\n",
       "                                                tags       location  \\\n",
       "0  ['admin', 'customer support', 'data entry', 'C...            NaN   \n",
       "1  ['dev', 'python', 'backend', 'redis', 'remote'...            NaN   \n",
       "2  ['crypto', 'cryptocurrency', 'system', 'securi...            NaN   \n",
       "3  ['ios', 'design', 'redis', 'frontend', 'back-e...            NaN   \n",
       "4  ['design', 'crypto', 'front-end', 'back-end', ...  United States   \n",
       "\n",
       "   salary_min  salary_max                                                url  \n",
       "0       80000       90000  https://remoteOK.com/remote-jobs/remote-work-f...  \n",
       "1       30000       40000  https://remoteOK.com/remote-jobs/remote-backen...  \n",
       "2       50000      100000  https://remoteOK.com/remote-jobs/remote-chief-...  \n",
       "3       60000      120000  https://remoteOK.com/remote-jobs/remote-senior...  \n",
       "4       60000      115000  https://remoteOK.com/remote-jobs/remote-member...  "
      ]
     },
     "execution_count": 3,
     "metadata": {},
     "output_type": "execute_result"
    }
   ],
   "source": [
    "df.head()"
   ]
  },
  {
   "cell_type": "code",
   "execution_count": 4,
   "id": "edcef7de-5de1-49ea-840e-3fd83e04553c",
   "metadata": {},
   "outputs": [
    {
     "name": "stdout",
     "output_type": "stream",
     "text": [
      "<class 'pandas.core.frame.DataFrame'>\n",
      "RangeIndex: 99 entries, 0 to 98\n",
      "Data columns (total 9 columns):\n",
      " #   Column      Non-Null Count  Dtype \n",
      "---  ------      --------------  ----- \n",
      " 0   id          99 non-null     int64 \n",
      " 1   date        99 non-null     object\n",
      " 2   company     97 non-null     object\n",
      " 3   position    97 non-null     object\n",
      " 4   tags        99 non-null     object\n",
      " 5   location    32 non-null     object\n",
      " 6   salary_min  99 non-null     int64 \n",
      " 7   salary_max  99 non-null     int64 \n",
      " 8   url         99 non-null     object\n",
      "dtypes: int64(3), object(6)\n",
      "memory usage: 7.1+ KB\n"
     ]
    }
   ],
   "source": [
    "df.info()"
   ]
  },
  {
   "cell_type": "code",
   "execution_count": 5,
   "id": "63a55439-5152-450e-8561-6cc1b2812887",
   "metadata": {},
   "outputs": [
    {
     "data": {
      "text/plain": [
       "id             0\n",
       "date           0\n",
       "company        2\n",
       "position       2\n",
       "tags           0\n",
       "location      67\n",
       "salary_min     0\n",
       "salary_max     0\n",
       "url            0\n",
       "dtype: int64"
      ]
     },
     "execution_count": 5,
     "metadata": {},
     "output_type": "execute_result"
    }
   ],
   "source": [
    "df.isnull().sum()"
   ]
  },
  {
   "cell_type": "code",
   "execution_count": 6,
   "id": "55b64d98-e58f-4f09-a83e-9c46387059bd",
   "metadata": {},
   "outputs": [],
   "source": [
    "df[\"location\"] = df[\"location\"].fillna(\"Worldwide\")"
   ]
  },
  {
   "cell_type": "code",
   "execution_count": 7,
   "id": "0bffb154-3e82-4c30-8fb3-91f99be6b9ed",
   "metadata": {},
   "outputs": [],
   "source": [
    "df[\"company\"] = df[\"company\"].str.strip().str.title()\n",
    "df[\"position\"] = df[\"position\"].str.strip().str.title()\n",
    "df[\"location\"] = df[\"location\"].str.strip().str.title()\n",
    "df[\"tags\"] = df[\"tags\"].str.strip().str.lower()"
   ]
  },
  {
   "cell_type": "code",
   "execution_count": 8,
   "id": "31efb28a-b95e-4c66-99fc-058a08386809",
   "metadata": {},
   "outputs": [
    {
     "data": {
      "text/plain": [
       "0    2025-07-12T06:08:36+00:00\n",
       "1    2025-07-11T14:43:16+00:00\n",
       "2    2025-07-11T11:00:03+00:00\n",
       "3    2025-07-10T15:00:10+00:00\n",
       "4    2025-07-10T13:00:03+00:00\n",
       "Name: date, dtype: object"
      ]
     },
     "execution_count": 8,
     "metadata": {},
     "output_type": "execute_result"
    }
   ],
   "source": [
    "df[\"date\"].head()"
   ]
  },
  {
   "cell_type": "code",
   "execution_count": 9,
   "id": "88bc571b-3ab4-48d9-854d-d5ffab569797",
   "metadata": {},
   "outputs": [],
   "source": [
    "df[\"date\"] = pd.to_datetime(df[\"date\"], errors=\"coerce\")"
   ]
  },
  {
   "cell_type": "code",
   "execution_count": 10,
   "id": "82d55861-dca1-4491-9504-b82d1c55530c",
   "metadata": {},
   "outputs": [
    {
     "data": {
      "text/plain": [
       "0   2025-07-12 06:08:36+00:00\n",
       "1   2025-07-11 14:43:16+00:00\n",
       "2   2025-07-11 11:00:03+00:00\n",
       "3   2025-07-10 15:00:10+00:00\n",
       "4   2025-07-10 13:00:03+00:00\n",
       "Name: date, dtype: datetime64[ns, UTC]"
      ]
     },
     "execution_count": 10,
     "metadata": {},
     "output_type": "execute_result"
    }
   ],
   "source": [
    "df[\"date\"].head()"
   ]
  },
  {
   "cell_type": "code",
   "execution_count": 11,
   "id": "2f2a6f83-aebe-4e56-ab05-70c310e1f3d5",
   "metadata": {},
   "outputs": [],
   "source": [
    "df.to_csv(\"../data/remoteok_jobs_final.csv\", index=False)"
   ]
  },
  {
   "cell_type": "markdown",
   "id": "37c24d99-1cb1-4dc4-937b-4b3e21ba61a0",
   "metadata": {},
   "source": [
    "Saved cleaned data to data/remoteok_jobs_final.csv"
   ]
  }
 ],
 "metadata": {
  "kernelspec": {
   "display_name": "Python 3 (ipykernel)",
   "language": "python",
   "name": "python3"
  },
  "language_info": {
   "codemirror_mode": {
    "name": "ipython",
    "version": 3
   },
   "file_extension": ".py",
   "mimetype": "text/x-python",
   "name": "python",
   "nbconvert_exporter": "python",
   "pygments_lexer": "ipython3",
   "version": "3.11.5"
  }
 },
 "nbformat": 4,
 "nbformat_minor": 5
}
